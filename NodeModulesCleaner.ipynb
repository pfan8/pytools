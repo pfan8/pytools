{
 "cells": [
  {
   "cell_type": "code",
   "execution_count": 12,
   "id": "c9bdac16-7e24-4c1c-9828-d179bf3ff26f",
   "metadata": {
    "collapsed": true,
    "jupyter": {
     "outputs_hidden": true
    },
    "tags": []
   },
   "outputs": [
    {
     "data": {
      "text/plain": [
       "['./interest-activity/node_modules/',\n",
       " './uipaas-node-demo/node_modules/',\n",
       " './bank-promo-flowsdk/node_modules/',\n",
       " './mybank-20211111/node_modules/',\n",
       " './hongbao-mixin/node_modules/',\n",
       " './lola-setter/node_modules/',\n",
       " './bank-task-sdk/node_modules/',\n",
       " './xmas-downgrade/node_modules/',\n",
       " './paconsole/node_modules/',\n",
       " './loan/node_modules/',\n",
       " './morpho-schema-parser/node_modules/',\n",
       " './loanpromocenter/node_modules/',\n",
       " './gotoURL/node_modules/',\n",
       " './schema-form/node_modules/',\n",
       " './mybank-comp-cli/node_modules/',\n",
       " './smallfish-plugin-mybank/node_modules/',\n",
       " './newTanAccount/node_modules/',\n",
       " './mini-simulator/node_modules/',\n",
       " './taoxi-20211111/node_modules/',\n",
       " './bank-promo-util/node_modules/',\n",
       " './hello-sheery-component/node_modules/',\n",
       " './my-components/node_modules/',\n",
       " './wechat-h5-demo/node_modules/',\n",
       " './loanReceiveInterest/node_modules/',\n",
       " './visualengine-utils/node_modules/',\n",
       " './bk-tpl-mob-ylb-open/node_modules/',\n",
       " './lowcode-editor-demo/node_modules/',\n",
       " './loanpromoconsole/node_modules/',\n",
       " './lola-designer/node_modules/',\n",
       " './double1111-20201111/node_modules/',\n",
       " './loan-pc-auth/node_modules/',\n",
       " './light-task-award2/node_modules/',\n",
       " './lola-core/node_modules/',\n",
       " './ylb-crowds-tasks/node_modules/',\n",
       " './lowcode-setter-vs-schema-editor/node_modules/',\n",
       " './bank-wufu/node_modules/',\n",
       " './wechat-h5-sdk/node_modules/',\n",
       " './hello-umi/node_modules/',\n",
       " './hitu-asset-market/node_modules/',\n",
       " './sherry-comp-core/node_modules/',\n",
       " './bkloanweb/node_modules/',\n",
       " './ylb-wufu/node_modules/',\n",
       " './sample-project-of-bakery-ui/node_modules/',\n",
       " './repaymentCore/node_modules/',\n",
       " './mybank-xview-auth/node_modules/',\n",
       " './hello-bigfish/node_modules/',\n",
       " './loan-auth-page/node_modules/',\n",
       " './loanpromoweb/node_modules/',\n",
       " './material-parser/node_modules/',\n",
       " './schema-editor/node_modules/',\n",
       " './light-task/node_modules/',\n",
       " './hotbox-with-query/node_modules/',\n",
       " './bkpromoweb/node_modules/',\n",
       " './sherry-study-wqw/node_modules/',\n",
       " './mybank-component-core/node_modules/',\n",
       " './mybank-mobile-web/node_modules/',\n",
       " './visualengine/node_modules/',\n",
       " './mybank-20211212/node_modules/',\n",
       " './bk-tpl-common-build/node_modules/',\n",
       " './forest-auth-comb/node_modules/',\n",
       " './oneapi-test/node_modules/',\n",
       " './xijin-multi-task/node_modules/',\n",
       " './promo-h5-utils/node_modules/',\n",
       " './mybank-task-center/node_modules/',\n",
       " './wufu-prize-kabao/node_modules/',\n",
       " './loanpromoflow/node_modules/',\n",
       " './wechat-mybank/node_modules/']"
      ]
     },
     "execution_count": 12,
     "metadata": {},
     "output_type": "execute_result"
    }
   ],
   "source": [
    "import glob\n",
    "\n",
    "def get_subnms(parent = '.'):\n",
    "    return glob.glob('./**/node_modules/', recursive=False)\n",
    "\n",
    "sdk_path = get_subnms()\n",
    "sdk_path"
   ]
  },
  {
   "cell_type": "code",
   "execution_count": 15,
   "id": "ae308d06-346e-48c0-9aee-ac7ae37af6c6",
   "metadata": {},
   "outputs": [
    {
     "data": {
      "text/plain": [
       "'./interest-activity/node_modules/'"
      ]
     },
     "execution_count": 15,
     "metadata": {},
     "output_type": "execute_result"
    }
   ],
   "source": [
    "tmp = sdk_path[0]\n",
    "tmp"
   ]
  },
  {
   "cell_type": "code",
   "execution_count": 27,
   "id": "43fa6cd3-aa75-4c6a-86d8-991c6cb47d9a",
   "metadata": {},
   "outputs": [
    {
     "name": "stdout",
     "output_type": "stream",
     "text": [
      "[Fail] you may got wrong path: path='./abc'\n"
     ]
    }
   ],
   "source": [
    "import shutil\n",
    "\n",
    "def remove_subnms(path=''):\n",
    "    if 'node_modules' not in path:\n",
    "        print(f'[Fail] you may got wrong path: {path=}')\n",
    "        return\n",
    "    try:\n",
    "        shutil.rmtree(path, ignore_errors=False)\n",
    "        print(f\"remove {path=} success\")\n",
    "    except Exception as err:\n",
    "        print(f\"remove {path=} fail with {err=}, {type(err)=}\")\n",
    "    \n",
    "remove_subnms('./abc')    "
   ]
  },
  {
   "cell_type": "code",
   "execution_count": 30,
   "id": "6ea1e542-ad2d-4b42-9c2d-c878339c23e5",
   "metadata": {},
   "outputs": [
    {
     "data": {
      "application/vnd.jupyter.widget-view+json": {
       "model_id": "14e21ab947ba41439bc373312271e84b",
       "version_major": 2,
       "version_minor": 0
      },
      "text/plain": [
       "  0%|          | 0/67 [00:00<?, ?it/s]"
      ]
     },
     "metadata": {},
     "output_type": "display_data"
    },
    {
     "name": "stdout",
     "output_type": "stream",
     "text": [
      "remove path='./interest-activity/node_modules/' fail with err=FileNotFoundError(2, 'No such file or directory'), type(err)=<class 'FileNotFoundError'>\n",
      "remove path='./uipaas-node-demo/node_modules/' fail with err=FileNotFoundError(2, 'No such file or directory'), type(err)=<class 'FileNotFoundError'>\n",
      "remove path='./bank-promo-flowsdk/node_modules/' success\n",
      "remove path='./mybank-20211111/node_modules/' success\n",
      "remove path='./hongbao-mixin/node_modules/' success\n",
      "remove path='./lola-setter/node_modules/' success\n",
      "remove path='./bank-task-sdk/node_modules/' success\n",
      "remove path='./xmas-downgrade/node_modules/' success\n",
      "remove path='./paconsole/node_modules/' success\n",
      "remove path='./loan/node_modules/' success\n",
      "remove path='./morpho-schema-parser/node_modules/' success\n",
      "remove path='./loanpromocenter/node_modules/' success\n",
      "remove path='./gotoURL/node_modules/' success\n",
      "remove path='./schema-form/node_modules/' success\n",
      "remove path='./mybank-comp-cli/node_modules/' success\n",
      "remove path='./smallfish-plugin-mybank/node_modules/' success\n",
      "remove path='./newTanAccount/node_modules/' success\n",
      "remove path='./mini-simulator/node_modules/' success\n",
      "remove path='./taoxi-20211111/node_modules/' success\n",
      "remove path='./bank-promo-util/node_modules/' success\n",
      "remove path='./hello-sheery-component/node_modules/' success\n",
      "remove path='./my-components/node_modules/' success\n",
      "remove path='./wechat-h5-demo/node_modules/' success\n",
      "remove path='./loanReceiveInterest/node_modules/' success\n",
      "remove path='./visualengine-utils/node_modules/' success\n",
      "remove path='./bk-tpl-mob-ylb-open/node_modules/' success\n",
      "remove path='./lowcode-editor-demo/node_modules/' success\n",
      "remove path='./loanpromoconsole/node_modules/' success\n",
      "remove path='./lola-designer/node_modules/' success\n",
      "remove path='./double1111-20201111/node_modules/' success\n",
      "remove path='./loan-pc-auth/node_modules/' success\n",
      "remove path='./light-task-award2/node_modules/' success\n",
      "remove path='./lola-core/node_modules/' success\n",
      "remove path='./ylb-crowds-tasks/node_modules/' success\n",
      "remove path='./lowcode-setter-vs-schema-editor/node_modules/' success\n",
      "remove path='./bank-wufu/node_modules/' success\n",
      "remove path='./wechat-h5-sdk/node_modules/' success\n",
      "remove path='./hello-umi/node_modules/' success\n",
      "remove path='./hitu-asset-market/node_modules/' success\n",
      "remove path='./sherry-comp-core/node_modules/' success\n",
      "remove path='./bkloanweb/node_modules/' success\n",
      "remove path='./ylb-wufu/node_modules/' success\n",
      "remove path='./sample-project-of-bakery-ui/node_modules/' success\n",
      "remove path='./repaymentCore/node_modules/' success\n",
      "remove path='./mybank-xview-auth/node_modules/' success\n",
      "remove path='./hello-bigfish/node_modules/' success\n",
      "remove path='./loan-auth-page/node_modules/' success\n",
      "remove path='./loanpromoweb/node_modules/' success\n",
      "remove path='./material-parser/node_modules/' success\n",
      "remove path='./schema-editor/node_modules/' success\n",
      "remove path='./light-task/node_modules/' success\n",
      "remove path='./hotbox-with-query/node_modules/' success\n",
      "remove path='./bkpromoweb/node_modules/' success\n",
      "remove path='./sherry-study-wqw/node_modules/' success\n",
      "remove path='./mybank-component-core/node_modules/' success\n",
      "remove path='./mybank-mobile-web/node_modules/' success\n",
      "remove path='./visualengine/node_modules/' success\n",
      "remove path='./mybank-20211212/node_modules/' success\n",
      "remove path='./bk-tpl-common-build/node_modules/' success\n",
      "remove path='./forest-auth-comb/node_modules/' success\n",
      "remove path='./oneapi-test/node_modules/' success\n",
      "remove path='./xijin-multi-task/node_modules/' success\n",
      "remove path='./promo-h5-utils/node_modules/' success\n",
      "remove path='./mybank-task-center/node_modules/' success\n",
      "remove path='./wufu-prize-kabao/node_modules/' success\n",
      "remove path='./loanpromoflow/node_modules/' success\n",
      "remove path='./wechat-mybank/node_modules/' success\n"
     ]
    }
   ],
   "source": [
    "from tqdm.notebook import tqdm, trange\n",
    "\n",
    "for path in tqdm(sdk_path):\n",
    "    remove_subnms(path)"
   ]
  },
  {
   "cell_type": "code",
   "execution_count": null,
   "id": "9e8f77a3-44d8-4df0-9d9e-52f46e3f5c0c",
   "metadata": {},
   "outputs": [],
   "source": []
  }
 ],
 "metadata": {
  "kernelspec": {
   "display_name": "Python 3",
   "language": "python",
   "name": "python3"
  },
  "language_info": {
   "codemirror_mode": {
    "name": "ipython",
    "version": 3
   },
   "file_extension": ".py",
   "mimetype": "text/x-python",
   "name": "python",
   "nbconvert_exporter": "python",
   "pygments_lexer": "ipython3",
   "version": "3.8.8"
  }
 },
 "nbformat": 4,
 "nbformat_minor": 5
}
